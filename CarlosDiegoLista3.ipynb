{
 "cells": [
  {
   "cell_type": "code",
   "execution_count": 1,
   "source": [
    "import numpy as np\r\n",
    "from sklearn.model_selection import train_test_split\r\n",
    "from sklearn.preprocessing import StandardScaler\r\n",
    "import matplotlib.pyplot as plt "
   ],
   "outputs": [],
   "metadata": {}
  },
  {
   "cell_type": "markdown",
   "source": [
    "## Questão 1"
   ],
   "metadata": {}
  },
  {
   "cell_type": "markdown",
   "source": [
    "### Considere o conjunto de dados disponível em concrete.csv, organizado em 9 colunas, sendo as 8 primeiras colunas os atributos e a última coluna a saída. Os 8 atributos referem-se à caracterização de diferentes tipos de concreto para construção civil. A saída é a resistência à compressão do concreto (em megapascals, MPa). Maiores detalhes sobre os dados podem ser conferidos em https://www.openml.org/d/4353"
   ],
   "metadata": {}
  },
  {
   "cell_type": "code",
   "execution_count": 2,
   "source": [
    "dataset = np.genfromtxt('./concrete.csv', delimiter=',', skip_header=0)"
   ],
   "outputs": [],
   "metadata": {}
  },
  {
   "cell_type": "markdown",
   "source": [
    "#### a) Considere um modelo de regressão não linear baseado em redes neurais arti\u001cciais. Separe os dados aleatoriamente em treino, validação e teste(por exemplo, 60%, 20% e 20%). Nesse cenário, treine e avalie o modelo abaixo:  "
   ],
   "metadata": {}
  },
  {
   "cell_type": "code",
   "execution_count": 3,
   "source": [
    "x_train, x_test_tmp, y_train, y_test_tmp = train_test_split(dataset[:,:-1],dataset[:,-1],train_size=0.6)\r\n",
    "x_val, x_test,y_val, y_test = train_test_split(x_test_tmp,y_test_tmp, train_size=0.5)"
   ],
   "outputs": [],
   "metadata": {}
  },
  {
   "cell_type": "code",
   "execution_count": 4,
   "source": [
    "#normalizar dados\r\n",
    "nomalizador_x = StandardScaler().fit(x_train)\r\n",
    "x_train = nomalizador_x.transform(x_train)\r\n",
    "x_val = nomalizador_x.transform(x_val)\r\n",
    "#x_test = nomalizador_x.transform(x_test)\r\n",
    "\r\n",
    "nomalizador_y = StandardScaler().fit(y_train.reshape(-1,1))\r\n",
    "y_train = nomalizador_y.transform(y_train.reshape(-1,1))\r\n",
    "y_val = nomalizador_y.transform(y_val.reshape(-1,1))\r\n",
    "#y_test = nomalizador_y.transform(y_test.reshape(-1,1))\r\n",
    "\r\n",
    "\r\n"
   ],
   "outputs": [],
   "metadata": {}
  },
  {
   "cell_type": "markdown",
   "source": [
    "#### MLP (multilayer perceptron): 1 camada oculta e treinamento em minibatch via gradiente descendente estocástico com termo de momentum. Utilize o conjunto de validação para ajustar os hiperparâmetros. "
   ],
   "metadata": {}
  },
  {
   "cell_type": "code",
   "execution_count": 23,
   "source": [
    "#inicias hiper parametros\r\n",
    "minibatch = 20\r\n",
    "momentum = 0.9\r\n",
    "alpha = 0.001\r\n",
    "hidden_nodes = 5\r\n",
    "epoches = 50\r\n",
    "#weigh_decay = 0"
   ],
   "outputs": [],
   "metadata": {}
  },
  {
   "cell_type": "code",
   "execution_count": 24,
   "source": [
    "def foward(x_):\r\n",
    "    z_ = []\r\n",
    "    for nh in range(hidden_nodes):\r\n",
    "        zs = []      \r\n",
    "        for i in range(x_.shape[0]):\r\n",
    "            u = W[nh].T@x_[i]\r\n",
    "            z = np.tanh(u)            \r\n",
    "            zs.append(z)\r\n",
    "        z_.append(zs)\r\n",
    "        \r\n",
    "    z_ = np.array(z_)    \r\n",
    "    z_ = np.concatenate((np.ones(x_.shape[0]).reshape(1,-1),z_),axis=0)\r\n",
    "    \r\n",
    "    return z_\r\n",
    "\r\n",
    "def calculaErro(y, o, n):\r\n",
    "    e = (y-o.reshape(-1,1))    \r\n",
    "    j = np.sum((y-o.reshape(-1,1))**2)/(2*n)\r\n",
    "    return e, j\r\n"
   ],
   "outputs": [],
   "metadata": {}
  },
  {
   "cell_type": "code",
   "execution_count": 25,
   "source": [
    "x_ = np.c_[np.ones(x_train.shape[0]),x_train]\r\n",
    "K = 1\r\n",
    "j_history = []\r\n",
    "delta = 0\r\n",
    "\r\n",
    "#inicializar os pesos\r\n",
    "lim_m =  np.sqrt(1/(hidden_nodes+1))\r\n",
    "m = np.random.uniform(-lim_m,lim_m,size=(hidden_nodes+1))\r\n",
    "m[0] = np.mean(y_train)\r\n",
    "\r\n",
    "lim_w = np.sqrt(1/((hidden_nodes+1)*x_.shape[1]))\r\n",
    "W = np.random.uniform(-lim_w,lim_w, size=(hidden_nodes+1,x_.shape[1]))\r\n",
    "W[:,0] = 0\r\n",
    "\r\n",
    "for epoch in range(epoches):\r\n",
    "    \r\n",
    "    #treino\r\n",
    "    z_ = foward(x_) \r\n",
    "    o = m.T@z_ \r\n",
    "\r\n",
    "    #Calcula o erro\r\n",
    "    e, j = calculaErro(y_train, o, x_train.shape[0])  \r\n",
    "    \r\n",
    "\r\n",
    "    #Validação\r\n",
    "    z_val = foward(np.c_[np.ones(x_val.shape[0]),x_val]) \r\n",
    "    o_val = m.T@z_val\r\n",
    "\r\n",
    "    #Calcula o erro\r\n",
    "    e_val, j_val = calculaErro(y_val, o_val, x_val.shape[0])\r\n",
    "    \r\n",
    "\r\n",
    "    j_history.append([j, j_val])\r\n",
    "\r\n",
    "    #atualiza os parametros    \r\n",
    "    m += (alpha * e[:,0].T)@ z_.T    \r\n",
    "    ç = ((1-z_**2).T * m).T *e[:,0]    \r\n",
    "    delta = momentum*delta - ((ç@x_)*alpha)\r\n",
    "    W += delta  "
   ],
   "outputs": [],
   "metadata": {}
  },
  {
   "cell_type": "code",
   "execution_count": 26,
   "source": [
    "plt.plot(j_history)"
   ],
   "outputs": [
    {
     "output_type": "execute_result",
     "data": {
      "text/plain": [
       "[<matplotlib.lines.Line2D at 0x21988234e80>,\n",
       " <matplotlib.lines.Line2D at 0x21988234eb0>]"
      ]
     },
     "metadata": {},
     "execution_count": 26
    },
    {
     "output_type": "display_data",
     "data": {
      "text/plain": [
       "<Figure size 432x288 with 1 Axes>"
      ],
      "image/png": "[encoded data removed]"
     },
     "metadata": {
      "needs_background": "light"
     }
    }
   ],
   "metadata": {}
  },
  {
   "cell_type": "code",
   "execution_count": 27,
   "source": [
    "#Retreino com treino + val\r\n",
    "x_tv = np.concatenate((x_train, x_val))\r\n",
    "y_tv = np.concatenate((y_train, y_val))\r\n",
    "delta = 0\r\n",
    "#inicializar os pesos\r\n",
    "x_ = np.c_[np.ones(x_tv.shape[0]),x_tv]\r\n",
    "lim_m =  np.sqrt(1/(hidden_nodes+1))\r\n",
    "m = np.random.uniform(-lim_m,lim_m,size=(hidden_nodes+1))\r\n",
    "m[0] = np.mean(y_tv)\r\n",
    "\r\n",
    "lim_w = np.sqrt(1/((hidden_nodes+1)*x_.shape[1]))\r\n",
    "W = np.random.uniform(-lim_w,lim_w, size=(hidden_nodes+1,x_.shape[1]))\r\n",
    "W[:,0] = 0\r\n",
    "\r\n",
    "#Treinamento\r\n",
    "for epoch in range(epoches):\r\n",
    "    #treino\r\n",
    "    z_ = foward(x_) \r\n",
    "    o = m.T@z_ \r\n",
    "\r\n",
    "    #Calcula o erro\r\n",
    "    e, j = calculaErro(y_tv, o, x_tv.shape[0])\r\n",
    "\r\n",
    "    #atualiza os parametros    \r\n",
    "    m += (alpha * e[:,0].T)@ z_.T    \r\n",
    "    ç = ((1-z_**2).T * m).T *e[:,0]    \r\n",
    "    delta = momentum*delta - ((ç@x_)*alpha)\r\n",
    "    W += delta\r\n",
    "\r\n",
    "#Test\r\n",
    "z_test =foward(np.c_[np.ones(x_test.shape[0]),x_test]) \r\n",
    "prev = nomalizador_y.inverse_transform(m.T@z_test)"
   ],
   "outputs": [],
   "metadata": {}
  },
  {
   "cell_type": "code",
   "execution_count": 33,
   "source": [
    "def rmse(y, pred):\r\n",
    "    return np.sqrt(np.mean((y - pred)**2))\r\n",
    "\r\n",
    "def mae(y, pred):\r\n",
    "    return np.mean(np.abs(y-pred))\r\n",
    "\r\n",
    "def mre(y, pred):\r\n",
    "    return np.mean(np.abs((y-pred)/y))"
   ],
   "outputs": [],
   "metadata": {}
  },
  {
   "cell_type": "code",
   "execution_count": 34,
   "source": [
    "print('Obtivemos o seguinte RMSE para treino: ',rmse(nomalizador_y.inverse_transform(y_train),nomalizador_y.inverse_transform(o)))\r\n",
    "print('Obtivemos o seguinte RMSE para Validação: ',rmse(nomalizador_y.inverse_transform(y_val),nomalizador_y.inverse_transform(o_val)))\r\n",
    "print('Obtivemos o seguinte RMSE para Teste: ',rmse(y_test,prev))"
   ],
   "outputs": [
    {
     "output_type": "stream",
     "name": "stdout",
     "text": [
      "Obtivemos o seguinte RMSE para treino:  21.451889466809106\n",
      "Obtivemos o seguinte RMSE para Validação:  21.616495965398734\n",
      "Obtivemos o seguinte RMSE para Teste:  15.685014531164322\n"
     ]
    }
   ],
   "metadata": {}
  },
  {
   "cell_type": "code",
   "execution_count": 35,
   "source": [
    "print('Obtivemos o seguinte MAE para treino: ',mae(nomalizador_y.inverse_transform(y_train),nomalizador_y.inverse_transform(o)))\r\n",
    "print('Obtivemos o seguinte MAE para Validação: ',mae(nomalizador_y.inverse_transform(y_val),nomalizador_y.inverse_transform(o_val)))\r\n",
    "print('Obtivemos o seguinte MAE para Teste: ',mae(y_test,prev))"
   ],
   "outputs": [
    {
     "output_type": "stream",
     "name": "stdout",
     "text": [
      "Obtivemos o seguinte MAE para treino:  17.382220478449344\n",
      "Obtivemos o seguinte MAE para Validação:  17.472177444463533\n",
      "Obtivemos o seguinte MAE para Teste:  12.165234241482995\n"
     ]
    }
   ],
   "metadata": {}
  },
  {
   "cell_type": "code",
   "execution_count": 36,
   "source": [
    "print('Obtivemos o seguinte MRE para treino: ',mre(nomalizador_y.inverse_transform(y_train),nomalizador_y.inverse_transform(o)))\r\n",
    "print('Obtivemos o seguinte MRE para Validação: ',mre(nomalizador_y.inverse_transform(y_val),nomalizador_y.inverse_transform(o_val)))\r\n",
    "print('Obtivemos o seguinte MRE para Teste: ',mre(y_test,prev))"
   ],
   "outputs": [
    {
     "output_type": "stream",
     "name": "stdout",
     "text": [
      "Obtivemos o seguinte MRE para treino:  0.701745101399791\n",
      "Obtivemos o seguinte MRE para Validação:  0.7741878877655581\n",
      "Obtivemos o seguinte MRE para Teste:  0.5201103046547207\n"
     ]
    }
   ],
   "metadata": {}
  }
 ],
 "metadata": {
  "interpreter": {
   "hash": "ac59ebe37160ed0dfa835113d9b8498d9f09ceb179beaac4002f036b9467c963"
  },
  "kernelspec": {
   "name": "python3",
   "display_name": "Python 3.9.6 64-bit"
  },
  "language_info": {
   "codemirror_mode": {
    "name": "ipython",
    "version": 3
   },
   "file_extension": ".py",
   "mimetype": "text/x-python",
   "name": "python",
   "nbconvert_exporter": "python",
   "pygments_lexer": "ipython3",
   "version": "3.9.6"
  },
  "orig_nbformat": 4
 },
 "nbformat": 4,
 "nbformat_minor": 2
}