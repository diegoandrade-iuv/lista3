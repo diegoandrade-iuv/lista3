{
 "cells": [
  {
   "cell_type": "code",
   "execution_count": 133,
   "source": [
    "import numpy as np\r\n",
    "from sklearn.model_selection import train_test_split\r\n",
    "from sklearn.preprocessing import StandardScaler\r\n",
    "import matplotlib.pyplot as plt "
   ],
   "outputs": [],
   "metadata": {}
  },
  {
   "cell_type": "markdown",
   "source": [
    "## Questão 1"
   ],
   "metadata": {}
  },
  {
   "cell_type": "markdown",
   "source": [
    "### Considere o conjunto de dados disponível em concrete.csv, organizado em 9 colunas, sendo as 8 primeiras colunas os atributos e a última coluna a saída. Os 8 atributos referem-se à caracterização de diferentes tipos de concreto para construção civil. A saída é a resistência à compressão do concreto (em megapascals, MPa). Maiores detalhes sobre os dados podem ser conferidos em https://www.openml.org/d/4353"
   ],
   "metadata": {}
  },
  {
   "cell_type": "code",
   "execution_count": 134,
   "source": [
    "dataset = np.genfromtxt('./concrete.csv', delimiter=',', skip_header=0)"
   ],
   "outputs": [],
   "metadata": {}
  },
  {
   "cell_type": "markdown",
   "source": [
    "#### a) Considere um modelo de regressão não linear baseado em redes neurais arti\u001cciais. Separe os dados aleatoriamente em treino, validação e teste(por exemplo, 60%, 20% e 20%). Nesse cenário, treine e avalie o modelo abaixo:  "
   ],
   "metadata": {}
  },
  {
   "cell_type": "code",
   "execution_count": 135,
   "source": [
    "x_train, x_test_tmp, y_train, y_test_tmp = train_test_split(dataset[:,:-1],dataset[:,-1],train_size=0.6)\r\n",
    "x_val, x_test,y_val, y_test = train_test_split(x_test_tmp,y_test_tmp, train_size=0.5)"
   ],
   "outputs": [],
   "metadata": {}
  },
  {
   "cell_type": "markdown",
   "source": [
    "#### MLP (multilayer perceptron): 1 camada oculta e treinamento em minibatch via gradiente descendente estocástico com termo de momentum. Utilize o conjunto de validação para ajustar os hiperparâmetros. "
   ],
   "metadata": {}
  },
  {
   "cell_type": "code",
   "execution_count": 205,
   "source": [
    "#inicias hiper parametros\r\n",
    "minibatch = 20\r\n",
    "momentum = 0.9\r\n",
    "alpha = 0.001\r\n",
    "hidden_nodes = 5\r\n",
    "epoches = 400\r\n",
    "#weigh_decay = 0"
   ],
   "outputs": [],
   "metadata": {}
  },
  {
   "cell_type": "code",
   "execution_count": 206,
   "source": [
    "#normalizar dados\r\n",
    "nomalizador_x = StandardScaler().fit(x_train)\r\n",
    "x_train = nomalizador_x.transform(x_train)\r\n",
    "x_val = nomalizador_x.transform(x_val)\r\n",
    "\r\n",
    "nomalizador_y = StandardScaler().fit(y_train.reshape(-1,1))\r\n",
    "y_train = nomalizador_y.transform(y_train.reshape(-1,1))\r\n",
    "y_val = nomalizador_y.transform(y_val.reshape(-1,1))\r\n",
    "\r\n",
    "\r\n"
   ],
   "outputs": [],
   "metadata": {}
  },
  {
   "cell_type": "code",
   "execution_count": 207,
   "source": [
    "x_ = np.c_[np.ones(x_train.shape[0]),x_train]\r\n",
    "K = 1\r\n",
    "j_history = []\r\n",
    "\r\n",
    "#inicializar os pesos\r\n",
    "lim_m =  np.sqrt(1/(hidden_nodes+1))\r\n",
    "m = np.random.uniform(-lim_m,lim_m,size=(hidden_nodes+1))\r\n",
    "m[0] = np.mean(y_train)\r\n",
    "\r\n",
    "lim_w = np.sqrt(1/((hidden_nodes+1)*x_.shape[1]))\r\n",
    "#W = np.zeros((hidden_nodes+1,x_.shape[1]))\r\n",
    "W = np.random.uniform(-lim_w,lim_w, size=(hidden_nodes+1,x_.shape[1]))\r\n",
    "#W *= (1/np.sqrt(x_.shape[1]))\r\n",
    "W[:,0] = 0\r\n",
    "\r\n",
    "for epoch in range(epoches):\r\n",
    "    z_ = []\r\n",
    "    for nh in range(hidden_nodes):\r\n",
    "        zs = []      \r\n",
    "        for i in range(x_.shape[0]):\r\n",
    "            u = W[nh].T@x_[i]\r\n",
    "            z = np.tanh(u)            \r\n",
    "            zs.append(z)\r\n",
    "        z_.append(zs)\r\n",
    "    \r\n",
    "    z_ = np.array(z_)\r\n",
    "    z_ = np.concatenate((np.ones(x_.shape[0]).reshape(1,-1),z_),axis=0)\r\n",
    "    \r\n",
    "    \r\n",
    "    o = m.T@z_ \r\n",
    "\r\n",
    "    #Calcula o erro\r\n",
    "    e = (y_train-o.reshape(-1,1))    \r\n",
    "    j = np.sum((y_train- o.reshape(-1,1))**2)/(2*x_train.shape[0])    \r\n",
    "    j_history.append(j)\r\n",
    "\r\n",
    "    #atualiza os parametros    \r\n",
    "    m += (alpha * e[:,0].T)@ z_.T    \r\n",
    "    ç = ((1-z_**2).T * m).T *e[:,0]    \r\n",
    "    W += ((ç@x_)*alpha)\r\n",
    "    \r\n",
    "    \r\n",
    "#minibatch\r\n",
    "#momentum\r\n",
    "#prev\r\n",
    "#validacao\r\n",
    "#test\r\n"
   ],
   "outputs": [],
   "metadata": {}
  },
  {
   "cell_type": "code",
   "execution_count": 208,
   "source": [
    "plt.plot(np.array(j_history))"
   ],
   "outputs": [
    {
     "output_type": "execute_result",
     "data": {
      "text/plain": [
       "[<matplotlib.lines.Line2D at 0x202f497b5b0>]"
      ]
     },
     "metadata": {},
     "execution_count": 208
    },
    {
     "output_type": "display_data",
     "data": {
      "text/plain": [
       "<Figure size 432x288 with 1 Axes>"
      ],
      "image/png": "[encoded data removed]"
     },
     "metadata": {
      "needs_background": "light"
     }
    }
   ],
   "metadata": {}
  },
  {
   "cell_type": "code",
   "execution_count": 209,
   "source": [
    "o"
   ],
   "outputs": [
    {
     "output_type": "execute_result",
     "data": {
      "text/plain": [
       "array([-0.22346094, -0.31030504,  0.82708238, -0.18659254, -0.11874709,\n",
       "       -0.96580006, -0.43844308, -0.5140163 , -0.91728865, -0.19237576,\n",
       "       -0.86929982, -0.52355899, -0.72319279, -0.7780628 , -0.68666755,\n",
       "       -0.79027053,  0.14225633, -0.70915896, -0.96655157, -0.71988091,\n",
       "       -0.2539688 ,  0.52611768, -1.07355281,  0.80030267,  1.04112326,\n",
       "       -0.54104683,  0.98334418, -0.38016249,  0.76888532, -0.90243722,\n",
       "       -0.93335042, -0.01021359,  1.17773617,  0.97296311, -0.8258454 ,\n",
       "        1.17798735,  0.805391  ,  1.1799079 , -0.68320566, -0.80537865,\n",
       "        1.13119006, -0.28390816, -0.89492637,  0.10424474, -0.87081019,\n",
       "       -0.01312701,  0.27916268, -0.74617458, -0.56248769, -0.88899822,\n",
       "        0.57986908, -0.83380676, -0.87667742,  0.55781946, -0.89280623,\n",
       "       -1.05648011, -0.75687236,  0.11833922,  0.56841893, -0.57965213,\n",
       "       -0.06311234,  1.06145667,  0.16215103,  0.30213146, -0.73218882,\n",
       "        0.04930812, -1.0914896 , -0.14821985,  0.60650527, -1.18728481,\n",
       "       -0.25645467, -0.48958789, -0.28429776,  1.04073291,  1.10202574,\n",
       "       -0.84033044,  0.69672105,  1.16045793, -0.17343927,  1.11295925,\n",
       "       -0.11217055,  0.85182146, -0.55896374, -0.97347187,  0.77896041,\n",
       "       -0.99659049,  0.41655845,  0.18797224,  0.85632036, -0.40005571,\n",
       "        0.10765545,  0.50071071, -0.93098989,  0.1044852 ,  0.75411267,\n",
       "       -0.76835364, -0.80065409, -0.39771005,  1.31864356,  1.05220327,\n",
       "        0.43527322,  1.05278237, -0.70301265,  0.42108698, -0.87963197,\n",
       "       -0.40507939, -0.2154008 , -0.99257087,  0.22652642, -0.93549651,\n",
       "        1.18279968, -1.07043817,  0.36924602, -0.43630457, -0.644747  ,\n",
       "        1.07334304, -0.97186105, -0.65921427,  0.96433382,  1.34659964,\n",
       "        0.70614435,  1.04520216, -0.79082748, -0.64620912,  0.48289024,\n",
       "        0.88641697, -0.40701606, -0.02272492,  1.00442503,  1.45675859,\n",
       "       -0.49689637,  0.98266015,  0.77274051,  1.1319585 , -0.17724558,\n",
       "        0.73023547,  0.64839033,  0.75667867, -0.30475975, -0.89273287,\n",
       "       -0.88950714,  0.26632739, -0.58473152,  1.02442889, -1.09881204,\n",
       "       -0.5320989 , -0.26607742,  1.22451578,  0.98778773,  1.25300942,\n",
       "       -0.97320594, -0.22206603,  0.57923778,  0.85541467, -1.02453037,\n",
       "        0.37509633,  0.04518321,  0.67087113,  0.35841606,  1.06145667,\n",
       "        0.23261049, -0.90882347,  1.24366783, -0.82088801,  0.99211116,\n",
       "       -0.12306641,  0.13339054,  0.33701722, -0.08139358,  0.22425883,\n",
       "        1.04520216,  1.17487921,  0.62239491,  0.4333252 , -0.58595721,\n",
       "       -0.8945547 ,  0.26477358, -0.64918707,  0.27130058, -1.06357025,\n",
       "       -0.91732475,  0.23481523,  1.4061557 ,  0.7473072 ,  0.42296673,\n",
       "        0.16443214, -0.21332978, -0.32326532, -0.74377004, -1.04416512,\n",
       "       -0.50449165,  0.32012604, -0.04319604, -0.93382143,  0.62950028,\n",
       "        0.38872276,  0.33171591,  0.76945184, -0.87718136, -0.67341772,\n",
       "        1.05220327,  1.1056074 , -0.07020545, -0.75776476,  0.14210343,\n",
       "        0.68736054, -0.69667232, -0.83883533, -0.93510432,  0.80215852,\n",
       "        1.19457709,  0.16409962, -0.84162029,  0.61000819,  0.00856015,\n",
       "        0.29518966,  0.43113426, -0.7410461 , -0.84650587,  1.29771741,\n",
       "       -0.71321414,  1.11605728, -1.17823861, -0.32550655,  0.46784621,\n",
       "       -0.0280625 ,  1.1319585 , -0.12312172,  0.08596621, -0.92627581,\n",
       "        1.08888534, -1.04039934,  1.20018823, -0.35035276,  0.9864656 ,\n",
       "        1.19850232, -0.21174102, -0.95276683, -0.44919154, -0.79888319,\n",
       "        0.98427812, -1.00471305, -0.4752854 ,  0.97709852,  1.06145667,\n",
       "        0.30112829,  0.85453185, -0.52888878, -0.86895542, -0.67213209,\n",
       "        1.09336797,  0.14952563,  0.5179671 , -0.72617074,  1.04520216,\n",
       "        1.05220327, -1.05502048,  1.03808123,  0.44370587,  0.54464682,\n",
       "       -0.91181583,  0.17090837, -0.75522852,  1.2851787 , -0.8756129 ,\n",
       "        0.16967006, -0.14831321, -0.73574824,  0.0627928 , -1.07873511,\n",
       "       -0.33702604, -0.43275181,  0.60636785, -0.5350207 ,  1.25236966,\n",
       "        0.54114936,  0.49870534, -1.05560931, -0.96061346, -1.00062282,\n",
       "       -1.02997998,  0.16369923, -0.82152893, -0.66085088,  0.38056951,\n",
       "        1.02976202, -0.13980411,  0.88951248, -0.30108089, -0.07117044,\n",
       "        0.48695351, -0.48153065, -0.86491757,  0.12590688, -0.76068722,\n",
       "       -0.81356742, -0.95239079,  1.04520216, -0.82599507, -0.06662803,\n",
       "       -0.86731124, -0.73049329,  0.58329208, -0.83074425, -0.84449093,\n",
       "        0.33182409, -1.00096131,  0.99139284,  1.19850232, -0.06173862,\n",
       "        0.35311837,  1.05220327, -0.4633275 ,  1.13771349, -0.63223424,\n",
       "       -0.30983292,  1.05918756, -0.31879741, -1.08217279, -0.27030547,\n",
       "       -0.92773718, -0.55518538,  0.92238162,  0.7999559 ,  0.8062464 ,\n",
       "        0.3277674 , -0.83869471, -0.37521048, -0.61565588,  0.54394491,\n",
       "        0.66035243,  1.14053118, -0.04650019,  0.99672391, -0.87953822,\n",
       "        1.07684201,  0.23167648, -0.92060625, -1.01527256,  0.74893352,\n",
       "       -0.86757199, -1.17761447, -0.23279   , -0.30838909,  0.12312496,\n",
       "        1.02035611,  0.24150172,  0.57804987,  0.13810054, -1.12313309,\n",
       "       -0.96953843,  0.88140132, -1.02942167,  0.51395954, -0.13203641,\n",
       "       -0.40105218,  0.73648463, -0.72437883, -0.76753906, -0.61348689,\n",
       "        1.24484008,  0.79330271,  0.88009967,  0.37599634, -0.8491107 ,\n",
       "        0.69424687,  0.02060065,  1.19850232, -0.69879098,  0.23759605,\n",
       "        0.44794396, -0.82220846, -0.82847893, -0.57115723,  1.28937233,\n",
       "       -0.80656675, -0.27117798, -0.12685657, -1.09788598, -1.06828074,\n",
       "       -0.78169528, -0.53023609, -0.78742369, -0.74434703,  1.06587305,\n",
       "       -0.39209214,  1.01284566, -1.06219208,  0.24324539, -0.64433182,\n",
       "       -0.5733363 , -0.97075405, -0.25800889, -0.62719052, -0.29132304,\n",
       "       -0.62712094, -1.09354033,  1.15060264,  0.99117721,  1.20199757,\n",
       "        0.17559289, -0.86998437,  0.54381166, -1.0495522 , -0.8859008 ,\n",
       "        1.07334304,  1.10617672,  0.26050027, -0.76718902, -1.05902958,\n",
       "        0.25851384,  0.62309074,  0.13636227, -0.88541502,  1.37947034,\n",
       "        1.036344  , -0.71880818, -1.06000184,  0.83793783, -0.01457084,\n",
       "        0.39774105,  1.01434862,  0.22010123,  0.11719484, -0.99092147,\n",
       "       -0.9032512 , -0.03941077,  1.02687942,  1.05278237,  0.165265  ,\n",
       "       -0.66082953, -0.77938001,  0.17292525, -0.8201116 ,  0.54221642,\n",
       "        1.32774635,  0.67490126, -0.84329343,  0.51191878,  0.15844064,\n",
       "        0.91479679,  1.06295429, -0.61461075,  0.6005126 ,  0.08537324,\n",
       "        1.08852593, -0.97384242,  0.53112329,  0.31128736, -0.77191433,\n",
       "        0.90579567, -0.93645412, -0.08723043, -0.81088416,  0.98379132,\n",
       "       -0.6898268 ,  0.17651409, -0.40966265,  0.10097319, -0.16914431,\n",
       "       -0.52261033,  1.16387977, -0.07204821,  1.22556777,  0.11736041,\n",
       "        1.09336797, -0.28105158, -0.85305804, -0.75092546, -0.71390527,\n",
       "        0.22676006,  0.16471636, -0.49880967,  0.02857677, -0.64605796,\n",
       "        1.24061646,  0.21565905, -0.55272746, -0.80652954, -0.2244172 ,\n",
       "        0.98362692, -0.92176647, -0.87370063, -0.849742  , -0.03338444,\n",
       "       -0.67746787,  0.71920571,  0.27962197, -0.1605006 ,  0.20116846,\n",
       "        1.04532474, -0.84335627,  0.89704627,  1.26028848, -0.92256517,\n",
       "        0.27313875,  1.29120041, -0.58727146,  0.50828551,  0.82789279,\n",
       "       -1.03364145, -0.01196047, -0.23352497,  0.03000607, -0.30198079,\n",
       "        0.7929452 ,  0.9836296 , -0.72079574,  0.0912405 , -0.68880367,\n",
       "       -1.05186539, -1.0216264 , -0.84233213, -1.03644224, -0.54538337,\n",
       "        1.09973697,  0.6821685 ,  1.06681061,  1.08085874,  0.94035482,\n",
       "       -0.69428856, -1.0960888 , -0.76275354,  1.10565134, -1.05392155,\n",
       "        0.38281725, -0.85688413,  0.20373755,  0.99139284,  0.52581228,\n",
       "       -0.95790154,  1.08379296,  0.86063485, -0.69417591,  0.84252494,\n",
       "       -0.64909332,  0.98286044,  0.25349816,  0.98362692, -0.8596862 ,\n",
       "        1.02168463, -0.45877212, -0.46992219,  0.55644897,  0.91119384,\n",
       "       -1.04378903, -0.59776684, -0.32651009,  0.53781779,  1.13771349,\n",
       "       -0.72319919, -0.88006265, -0.95372191,  1.16387977,  0.59513886,\n",
       "       -0.95395315, -0.01485195, -0.35231081,  0.37277467,  0.86305146,\n",
       "        1.11187125,  0.1890476 ,  0.64947031, -0.93585745, -0.39197812,\n",
       "        1.37510192, -0.75312938, -0.09575373, -0.7338032 , -0.02206824,\n",
       "       -0.79302922, -0.79844494, -0.06872079, -0.83805967,  0.99211116,\n",
       "        0.309094  ,  0.71988154,  0.98334418, -0.83674718, -0.93346853,\n",
       "       -0.66186946, -0.70990968,  0.55402607,  0.09652302, -0.26735887,\n",
       "        0.601102  ,  1.35288506,  0.08385063,  0.02722156,  0.52347405,\n",
       "        0.6553154 ,  1.00632019,  0.34701517, -0.54690304,  1.18238507,\n",
       "       -0.28133019, -0.65911718, -1.00830428, -0.19465173,  1.06740562,\n",
       "        0.84966701,  0.04080996, -0.50220531,  0.83408088, -1.06289674,\n",
       "       -0.90206821,  0.42155745, -0.72729626, -0.92817541, -0.67215825,\n",
       "        0.21444067,  0.01722798,  1.08888534,  0.44005321, -0.7840611 ,\n",
       "       -0.95745035, -0.04638397,  1.09598603])"
      ]
     },
     "metadata": {},
     "execution_count": 209
    }
   ],
   "metadata": {}
  },
  {
   "cell_type": "code",
   "execution_count": 210,
   "source": [
    "def mse_loss(y, pred):\r\n",
    "    return np.mean((y - pred)**2)\r\n",
    "\r\n",
    "def logistic_loss(y, pred):\r\n",
    "    return np.mean(-y * np.log(pred) - (1-y)* np.log(1-pred))\r\n",
    "\r\n",
    "def softmas_loss(y, pred):\r\n",
    "    return - np.sum(y*np.log(pred))/y.shape[1]"
   ],
   "outputs": [],
   "metadata": {}
  },
  {
   "cell_type": "code",
   "execution_count": 211,
   "source": [
    "def percRosen(x, y, alpha=1):\r\n",
    "    w = np.zeros((x.shape[1]+1))\r\n",
    "    x_ = np.c_[np.ones(x.shape[0]),x]\r\n",
    "    y_out = []\r\n",
    "    for xi, yi in x_, y:\r\n",
    "        y_ = np.sign(w.T@xi)\r\n",
    "        ei = yi - y_\r\n",
    "        w += (alpha * ei) * xi         \r\n",
    "        y_out.append(y_)\r\n",
    "    j = -np.sum(y*y_out)\r\n",
    "    return w, np.array(y_out), j\r\n",
    "\r\n",
    "def adeline(x,y, alpha=1):\r\n",
    "    w = np.zeros(x.shape[1]+1)\r\n",
    "    x = np.c_[np.ones(x.shape[0]),x]\r\n",
    "    y_out = []\r\n",
    "    for xi, yi in x, y:\r\n",
    "       y_ = w.T@xi\r\n",
    "       ei = yi - y_       \r\n",
    "       w += (alpha * ei) * xi\r\n",
    "       y_out.append(np.sign(y_))\r\n",
    "    j = np.sum((y-y_out)**2)/(2 * x.shape[0])\r\n",
    "    return w, np.array(y_out), j"
   ],
   "outputs": [],
   "metadata": {}
  },
  {
   "cell_type": "code",
   "execution_count": 212,
   "source": [
    "def percRosen(x, y, k=2, alpha=1):\r\n",
    "    w = np.zeros((k,x.shape[1]+1))\r\n",
    "    x_ = np.c_[np.ones(x.shape[0]),x]\r\n",
    "    y_out = []\r\n",
    "    for xi, yi in x_, y:\r\n",
    "        yk = []\r\n",
    "        for ki in range(k):\r\n",
    "            y_ = np.sign(w[ki].T@xi)\r\n",
    "            ei = yi - y_\r\n",
    "            w[ki] += (alpha * ei) * xi \r\n",
    "            yk.append(y_)\r\n",
    "        y_out.append(yk)\r\n",
    "    j = np.sum(np.max([0,-(y_out*y)],axis=1))\r\n",
    "    return w, np.array(y_out), j\r\n",
    "\r\n",
    "def adeline(x,y, k=2, alpha=1):\r\n",
    "    w = np.zeros(k,x.shape[1]+1)\r\n",
    "    x = np.c_[np.ones(x.shape[0]),x]\r\n",
    "    y_out = []\r\n",
    "    for xi, yi in x, y:\r\n",
    "        yk = []\r\n",
    "        for ki in range(k):\r\n",
    "            y_ = w[ki].T@xi\r\n",
    "            ei = yi - y_       \r\n",
    "            w[ki] += (alpha * ei) * xi\r\n",
    "            yk.append(np.sign(y_))\r\n",
    "        y_out.append(yk)\r\n",
    "    j = np.sum(np.sum((y-y_out)**2,axis=1))/(2 * x.shape[0])\r\n",
    "    return w, np.array(y_out), j\r\n",
    "\r\n"
   ],
   "outputs": [],
   "metadata": {}
  }
 ],
 "metadata": {
  "interpreter": {
   "hash": "ac59ebe37160ed0dfa835113d9b8498d9f09ceb179beaac4002f036b9467c963"
  },
  "kernelspec": {
   "name": "python3",
   "display_name": "Python 3.9.6 64-bit"
  },
  "language_info": {
   "codemirror_mode": {
    "name": "ipython",
    "version": 3
   },
   "file_extension": ".py",
   "mimetype": "text/x-python",
   "name": "python",
   "nbconvert_exporter": "python",
   "pygments_lexer": "ipython3",
   "version": "3.9.6"
  },
  "orig_nbformat": 4
 },
 "nbformat": 4,
 "nbformat_minor": 2
}